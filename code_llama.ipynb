{
  "cells": [
    {
      "cell_type": "code",
      "execution_count": null,
      "metadata": {
        "id": "IDeZ85hycHpu"
      },
      "outputs": [],
      "source": [
        "pip install transformers bitsandbytes"
      ]
    },
    {
      "cell_type": "code",
      "execution_count": null,
      "metadata": {},
      "outputs": [],
      "source": [
        "pip install accelerate"
      ]
    },
    {
      "cell_type": "code",
      "execution_count": 3,
      "metadata": {
        "colab": {
          "base_uri": "https://localhost:8080/"
        },
        "id": "k97ItLfjcN7E",
        "outputId": "2f3bd522-504e-4fe1-c479-3b7c4684e128"
      },
      "outputs": [],
      "source": [
        "\n",
        "from transformers import AutoTokenizer, AutoModelForCausalLM, BitsAndBytesConfig\n",
        "import bitsandbytes as bnb"
      ]
    },
    {
      "cell_type": "code",
      "execution_count": 4,
      "metadata": {
        "id": "k87eodWVdrrb"
      },
      "outputs": [],
      "source": [
        "tokenizer = AutoTokenizer.from_pretrained(\"TheBloke/CodeLlama-13B-Instruct-fp16\")"
      ]
    },
    {
      "cell_type": "code",
      "execution_count": null,
      "metadata": {
        "id": "Qf9JF5FufqGm"
      },
      "outputs": [],
      "source": [
        "# # using bitsandbytes cconfiguration to load model in 4bit\n",
        "# # bitsandbytes parameters\n",
        "# use_4bit = True\n",
        "# bnb_4bit_compute_dtype = \"float16\"\n",
        "# bnb_4bit_quant_type = \"nf4\"\n",
        "# use_nested_quant = False\n",
        "\n",
        "# bnb_config = BitsAndBytesConfig(\n",
        "#     load_in_4bit=use_4bit,\n",
        "#     bnb_4bit_quant_type=bnb_4bit_quant_type,\n",
        "#     bnb_4bit_use_double_quant=use_nested_quant,\n",
        "# )\n",
        "# model = AutoModelForCausalLM.from_pretrained(\n",
        "#     \"TheBloke/CodeLlama-13B-Instruct-fp16\",\n",
        "#     quantization_config=bnb_config,\n",
        "#     device_map=\"auto\"\n",
        "# )"
      ]
    },
    {
      "cell_type": "code",
      "execution_count": null,
      "metadata": {
        "id": "bEEjqOAHd6wN"
      },
      "outputs": [],
      "source": [
        "# this way we can also download the retrained model but`load_in_4bit` and `load_in_8bit` arguments are deprecated and will be removed in the future versions.\n",
        "model = AutoModelForCausalLM.from_pretrained(\"TheBloke/CodeLlama-13B-Instruct-fp16\",\n",
        "                                             load_in_4bit = True,\n",
        "                                             device_map=\"auto\",\n",
        "                                             torch_dtype =\"auto\"\n",
        "                                             )"
      ]
    },
    {
      "cell_type": "code",
      "execution_count": null,
      "metadata": {
        "id": "oOFpP-D8eQtX"
      },
      "outputs": [],
      "source": [
        "prompt = \"Write a python RestAPI function for calling a weather API\""
      ]
    },
    {
      "cell_type": "code",
      "execution_count": null,
      "metadata": {
        "id": "4lD7ylUkekK5"
      },
      "outputs": [],
      "source": [
        "inputs = tokenizer(prompt,return_tensors=\"pt\").to(model.device)"
      ]
    },
    {
      "cell_type": "code",
      "execution_count": null,
      "metadata": {
        "id": "MTZixT3keyBp"
      },
      "outputs": [],
      "source": [
        "inputs"
      ]
    },
    {
      "cell_type": "code",
      "execution_count": null,
      "metadata": {
        "id": "vG8v3xete0uD"
      },
      "outputs": [],
      "source": [
        "prompt_len = inputs[\"input_ids\"].shape[-1]"
      ]
    },
    {
      "cell_type": "code",
      "execution_count": null,
      "metadata": {
        "id": "Wo9uuhFhe7sQ"
      },
      "outputs": [],
      "source": [
        "outputs = model.generate(**inputs, max_new_tokens = 150)"
      ]
    },
    {
      "cell_type": "code",
      "execution_count": null,
      "metadata": {
        "id": "3Q3KQEzFfIEF"
      },
      "outputs": [],
      "source": [
        "outputs"
      ]
    },
    {
      "cell_type": "code",
      "execution_count": null,
      "metadata": {
        "id": "hBb4yIOofL_G"
      },
      "outputs": [],
      "source": [
        "code =tokenizer.decode(outputs[0][prompt_len:])"
      ]
    },
    {
      "cell_type": "code",
      "execution_count": null,
      "metadata": {
        "id": "gWuFrVOOfbyg"
      },
      "outputs": [],
      "source": [
        "code"
      ]
    },
    {
      "cell_type": "code",
      "execution_count": null,
      "metadata": {
        "id": "8dG_Y-osAxxm"
      },
      "outputs": [],
      "source": []
    }
  ],
  "metadata": {
    "accelerator": "GPU",
    "colab": {
      "gpuType": "T4",
      "provenance": []
    },
    "kernelspec": {
      "display_name": "Python 3",
      "name": "python3"
    },
    "language_info": {
      "codemirror_mode": {
        "name": "ipython",
        "version": 3
      },
      "file_extension": ".py",
      "mimetype": "text/x-python",
      "name": "python",
      "nbconvert_exporter": "python",
      "pygments_lexer": "ipython3",
      "version": "3.11.5"
    }
  },
  "nbformat": 4,
  "nbformat_minor": 0
}
